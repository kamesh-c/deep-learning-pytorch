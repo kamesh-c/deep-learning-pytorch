{
 "cells": [
  {
   "cell_type": "code",
   "execution_count": 1,
   "metadata": {},
   "outputs": [],
   "source": [
    "import torch\n",
    "import torchvision\n",
    "from torchvision import transforms, datasets"
   ]
  },
  {
   "cell_type": "code",
   "execution_count": 2,
   "metadata": {},
   "outputs": [
    {
     "name": "stderr",
     "output_type": "stream",
     "text": [
      "0it [00:00, ?it/s]"
     ]
    },
    {
     "name": "stdout",
     "output_type": "stream",
     "text": [
      "Downloading http://yann.lecun.com/exdb/mnist/train-images-idx3-ubyte.gz to MNIST/raw/train-images-idx3-ubyte.gz\n"
     ]
    },
    {
     "name": "stderr",
     "output_type": "stream",
     "text": [
      " 99%|█████████▊| 9773056/9912422 [01:25<00:00, 331337.26it/s]"
     ]
    },
    {
     "name": "stdout",
     "output_type": "stream",
     "text": [
      "Extracting MNIST/raw/train-images-idx3-ubyte.gz to MNIST/raw\n"
     ]
    },
    {
     "name": "stderr",
     "output_type": "stream",
     "text": [
      "\n",
      "0it [00:00, ?it/s]\u001b[A"
     ]
    },
    {
     "name": "stdout",
     "output_type": "stream",
     "text": [
      "Downloading http://yann.lecun.com/exdb/mnist/train-labels-idx1-ubyte.gz to MNIST/raw/train-labels-idx1-ubyte.gz\n"
     ]
    },
    {
     "name": "stderr",
     "output_type": "stream",
     "text": [
      "\n",
      "  0%|          | 0/28881 [00:00<?, ?it/s]\u001b[A\n",
      " 57%|█████▋    | 16384/28881 [00:01<00:00, 37690.28it/s]\u001b[A\n",
      "32768it [00:01, 23569.81it/s]                           \u001b[A\n",
      "0it [00:00, ?it/s]\u001b[A"
     ]
    },
    {
     "name": "stdout",
     "output_type": "stream",
     "text": [
      "Extracting MNIST/raw/train-labels-idx1-ubyte.gz to MNIST/raw\n",
      "Downloading http://yann.lecun.com/exdb/mnist/t10k-images-idx3-ubyte.gz to MNIST/raw/t10k-images-idx3-ubyte.gz\n"
     ]
    },
    {
     "name": "stderr",
     "output_type": "stream",
     "text": [
      "\n",
      "  0%|          | 0/1648877 [00:00<?, ?it/s]\u001b[A\n",
      "  1%|          | 16384/1648877 [00:01<00:50, 32123.48it/s]\u001b[A\n",
      "  2%|▏         | 40960/1648877 [00:01<00:45, 35660.79it/s]\u001b[A\n",
      "  5%|▍         | 81920/1648877 [00:02<00:42, 36847.86it/s]\u001b[A\n",
      "  8%|▊         | 131072/1648877 [00:03<00:33, 45213.71it/s]\u001b[A\n",
      " 11%|█▏        | 188416/1648877 [00:03<00:26, 55063.14it/s]\u001b[A\n",
      " 13%|█▎        | 221184/1648877 [00:04<00:26, 54502.59it/s]\u001b[A\n",
      " 16%|█▋        | 270336/1648877 [00:05<00:25, 54407.10it/s]\u001b[A\n",
      " 19%|█▉        | 311296/1648877 [00:05<00:20, 65738.41it/s]\u001b[A\n",
      " 22%|██▏       | 368640/1648877 [00:06<00:16, 78423.51it/s]\u001b[A\n",
      " 25%|██▍       | 409600/1648877 [00:06<00:14, 83467.56it/s]\u001b[A\n",
      " 27%|██▋       | 450560/1648877 [00:07<00:14, 82353.25it/s]\u001b[A\n",
      " 30%|██▉       | 491520/1648877 [00:07<00:14, 81508.98it/s]\u001b[A\n",
      " 32%|███▏      | 532480/1648877 [00:08<00:13, 81212.24it/s]\u001b[A\n",
      " 35%|███▍      | 573440/1648877 [00:08<00:13, 80800.52it/s]\u001b[A\n",
      " 37%|███▋      | 614400/1648877 [00:09<00:12, 80531.04it/s]\u001b[A\n",
      " 40%|███▉      | 655360/1648877 [00:09<00:12, 80362.16it/s]\u001b[A\n",
      " 42%|████▏     | 696320/1648877 [00:10<00:11, 80306.27it/s]\u001b[A\n",
      " 45%|████▍     | 737280/1648877 [00:10<00:10, 84462.86it/s]\u001b[A\n",
      " 48%|████▊     | 786432/1648877 [00:11<00:11, 72200.60it/s]\u001b[A\n",
      " 51%|█████     | 835584/1648877 [00:11<00:09, 86437.79it/s]\u001b[A\n",
      "9920512it [01:40, 331337.26it/s]                             A\n",
      " 57%|█████▋    | 933888/1648877 [00:12<00:07, 98806.35it/s]\u001b[A\n",
      " 59%|█████▉    | 974848/1648877 [00:12<00:05, 116239.41it/s]\u001b[A\n",
      " 60%|██████    | 991232/1648877 [00:13<00:07, 85914.01it/s] \u001b[A\n",
      " 62%|██████▏   | 1024000/1648877 [00:13<00:08, 78005.84it/s]\u001b[A\n",
      " 66%|██████▌   | 1081344/1648877 [00:14<00:06, 85766.17it/s]\u001b[A\n",
      " 68%|██████▊   | 1122304/1648877 [00:15<00:07, 70141.96it/s]\u001b[A\n",
      " 73%|███████▎  | 1196032/1648877 [00:15<00:05, 85755.45it/s]\u001b[A\n",
      " 75%|███████▌  | 1236992/1648877 [00:15<00:04, 89766.39it/s]\u001b[A\n",
      " 78%|███████▊  | 1277952/1648877 [00:16<00:04, 87344.97it/s]\u001b[A\n",
      " 80%|███████▉  | 1318912/1648877 [00:17<00:04, 71421.26it/s]\u001b[A\n",
      " 83%|████████▎ | 1368064/1648877 [00:17<00:03, 82127.52it/s]\u001b[A\n",
      " 87%|████████▋ | 1433600/1648877 [00:17<00:02, 96368.84it/s]\u001b[A\n",
      " 89%|████████▉ | 1466368/1648877 [00:18<00:01, 97053.25it/s]\u001b[A\n",
      " 91%|█████████▏| 1507328/1648877 [00:18<00:01, 91148.70it/s]\u001b[A\n",
      " 94%|█████████▍| 1548288/1648877 [00:19<00:01, 87484.52it/s]\u001b[A\n",
      " 97%|█████████▋| 1597440/1648877 [00:19<00:00, 89747.52it/s]\u001b[A\n",
      " 99%|█████████▉| 1638400/1648877 [00:20<00:00, 86714.89it/s]\u001b[A\n",
      "\n",
      "0it [00:00, ?it/s]\u001b[A\u001b[A"
     ]
    },
    {
     "name": "stdout",
     "output_type": "stream",
     "text": [
      "Extracting MNIST/raw/t10k-images-idx3-ubyte.gz to MNIST/raw\n",
      "Downloading http://yann.lecun.com/exdb/mnist/t10k-labels-idx1-ubyte.gz to MNIST/raw/t10k-labels-idx1-ubyte.gz\n"
     ]
    },
    {
     "name": "stderr",
     "output_type": "stream",
     "text": [
      "\n",
      "\n",
      "  0%|          | 0/4542 [00:00<?, ?it/s]\u001b[A\u001b[A\n",
      "\n",
      "8192it [00:00, 9738.42it/s]             \u001b[A\u001b[A"
     ]
    },
    {
     "name": "stdout",
     "output_type": "stream",
     "text": [
      "Extracting MNIST/raw/t10k-labels-idx1-ubyte.gz to MNIST/raw\n",
      "Processing...\n",
      "Done!\n"
     ]
    },
    {
     "name": "stderr",
     "output_type": "stream",
     "text": [
      "\n",
      "1654784it [00:32, 86714.89it/s]                             \u001b[A"
     ]
    }
   ],
   "source": [
    "# Loading training data set \n",
    "# MNIST is handwritten number data set examples\n",
    "train = datasets.MNIST('', train=True, download=True,\n",
    "                       transform=transforms.Compose([\n",
    "                           transforms.ToTensor()\n",
    "                       ]))\n",
    "\n",
    "test = datasets.MNIST('', train=False, download=True,\n",
    "                       transform=transforms.Compose([\n",
    "                           transforms.ToTensor()\n",
    "                       ]))"
   ]
  },
  {
   "cell_type": "code",
   "execution_count": 3,
   "metadata": {},
   "outputs": [],
   "source": [
    "# Splitting the data set into training and test datasets\n",
    "# Batch size: is the size of data needs to feed into nural network. \n",
    "# For example we have used 10, perhaps we can have loaded all of them\n",
    "# this helps to genralize the model to avoid outfit\n",
    "\n",
    "trainset = torch.utils.data.DataLoader(train, batch_size=10, shuffle=True)\n",
    "testset = torch.utils.data.DataLoader(test, batch_size=10, shuffle=False)"
   ]
  },
  {
   "cell_type": "code",
   "execution_count": 4,
   "metadata": {},
   "outputs": [
    {
     "name": "stdout",
     "output_type": "stream",
     "text": [
      "[tensor([[[[0., 0., 0.,  ..., 0., 0., 0.],\n",
      "          [0., 0., 0.,  ..., 0., 0., 0.],\n",
      "          [0., 0., 0.,  ..., 0., 0., 0.],\n",
      "          ...,\n",
      "          [0., 0., 0.,  ..., 0., 0., 0.],\n",
      "          [0., 0., 0.,  ..., 0., 0., 0.],\n",
      "          [0., 0., 0.,  ..., 0., 0., 0.]]],\n",
      "\n",
      "\n",
      "        [[[0., 0., 0.,  ..., 0., 0., 0.],\n",
      "          [0., 0., 0.,  ..., 0., 0., 0.],\n",
      "          [0., 0., 0.,  ..., 0., 0., 0.],\n",
      "          ...,\n",
      "          [0., 0., 0.,  ..., 0., 0., 0.],\n",
      "          [0., 0., 0.,  ..., 0., 0., 0.],\n",
      "          [0., 0., 0.,  ..., 0., 0., 0.]]],\n",
      "\n",
      "\n",
      "        [[[0., 0., 0.,  ..., 0., 0., 0.],\n",
      "          [0., 0., 0.,  ..., 0., 0., 0.],\n",
      "          [0., 0., 0.,  ..., 0., 0., 0.],\n",
      "          ...,\n",
      "          [0., 0., 0.,  ..., 0., 0., 0.],\n",
      "          [0., 0., 0.,  ..., 0., 0., 0.],\n",
      "          [0., 0., 0.,  ..., 0., 0., 0.]]],\n",
      "\n",
      "\n",
      "        ...,\n",
      "\n",
      "\n",
      "        [[[0., 0., 0.,  ..., 0., 0., 0.],\n",
      "          [0., 0., 0.,  ..., 0., 0., 0.],\n",
      "          [0., 0., 0.,  ..., 0., 0., 0.],\n",
      "          ...,\n",
      "          [0., 0., 0.,  ..., 0., 0., 0.],\n",
      "          [0., 0., 0.,  ..., 0., 0., 0.],\n",
      "          [0., 0., 0.,  ..., 0., 0., 0.]]],\n",
      "\n",
      "\n",
      "        [[[0., 0., 0.,  ..., 0., 0., 0.],\n",
      "          [0., 0., 0.,  ..., 0., 0., 0.],\n",
      "          [0., 0., 0.,  ..., 0., 0., 0.],\n",
      "          ...,\n",
      "          [0., 0., 0.,  ..., 0., 0., 0.],\n",
      "          [0., 0., 0.,  ..., 0., 0., 0.],\n",
      "          [0., 0., 0.,  ..., 0., 0., 0.]]],\n",
      "\n",
      "\n",
      "        [[[0., 0., 0.,  ..., 0., 0., 0.],\n",
      "          [0., 0., 0.,  ..., 0., 0., 0.],\n",
      "          [0., 0., 0.,  ..., 0., 0., 0.],\n",
      "          ...,\n",
      "          [0., 0., 0.,  ..., 0., 0., 0.],\n",
      "          [0., 0., 0.,  ..., 0., 0., 0.],\n",
      "          [0., 0., 0.,  ..., 0., 0., 0.]]]]), tensor([4, 6, 8, 9, 5, 8, 1, 6, 9, 7])]\n"
     ]
    }
   ],
   "source": [
    "for data in trainset:\n",
    "    print(data)\n",
    "    break"
   ]
  },
  {
   "cell_type": "code",
   "execution_count": 5,
   "metadata": {},
   "outputs": [],
   "source": [
    "X, y = data[0][0], data[1][0]"
   ]
  },
  {
   "cell_type": "code",
   "execution_count": 6,
   "metadata": {},
   "outputs": [
    {
     "name": "stdout",
     "output_type": "stream",
     "text": [
      "tensor([4, 6, 8, 9, 5, 8, 1, 6, 9, 7])\n"
     ]
    }
   ],
   "source": [
    "print(data[1])"
   ]
  },
  {
   "cell_type": "code",
   "execution_count": 7,
   "metadata": {},
   "outputs": [
    {
     "name": "stdout",
     "output_type": "stream",
     "text": [
      "torch.Size([1, 28, 28])\n"
     ]
    }
   ],
   "source": [
    "print(data[0][0].shape)"
   ]
  },
  {
   "cell_type": "code",
   "execution_count": 8,
   "metadata": {},
   "outputs": [],
   "source": [
    "import matplotlib.pyplot as plt\n"
   ]
  },
  {
   "cell_type": "code",
   "execution_count": 13,
   "metadata": {},
   "outputs": [
    {
     "data": {
      "image/png": "[encoded data removed]",
      "text/plain": [
       "<Figure size 432x288 with 1 Axes>"
      ]
     },
     "metadata": {
      "needs_background": "light"
     },
     "output_type": "display_data"
    }
   ],
   "source": [
    "plt.imshow(data[0][-1].view(28,28))\n",
    "plt.show()"
   ]
  },
  {
   "cell_type": "markdown",
   "metadata": {},
   "source": [
    "### Balacing\n",
    "If a model can find a shorter path to decrese in loss "
   ]
  },
  {
   "cell_type": "code",
   "execution_count": 14,
   "metadata": {},
   "outputs": [
    {
     "name": "stdout",
     "output_type": "stream",
     "text": [
      "{0: 5923, 1: 6742, 2: 5958, 3: 6131, 4: 5842, 5: 5421, 6: 5918, 7: 6265, 8: 5851, 9: 5949}\n",
      "0: 9.871666666666666%\n",
      "1: 11.236666666666666%\n",
      "2: 9.93%\n",
      "3: 10.218333333333334%\n",
      "4: 9.736666666666666%\n",
      "5: 9.035%\n",
      "6: 9.863333333333333%\n",
      "7: 10.441666666666666%\n",
      "8: 9.751666666666667%\n",
      "9: 9.915000000000001%\n"
     ]
    }
   ],
   "source": [
    "total = 0\n",
    "counter_dict = {0:0, 1:0, 2:0, 3:0, 4:0, 5:0, 6:0, 7:0, 8:0, 9:0}\n",
    "\n",
    "\n",
    "for data in trainset:\n",
    "    Xs, ys = data\n",
    "    for y in ys:\n",
    "        counter_dict[int(y)] += 1\n",
    "        total +=1\n",
    "\n",
    "print(counter_dict)\n",
    "\n",
    "for i in counter_dict:\n",
    "    print(f\"{i}: {counter_dict[i]/total*100.0}%\")"
   ]
  },
  {
   "cell_type": "code",
   "execution_count": null,
   "metadata": {},
   "outputs": [],
   "source": []
  }
 ],
 "metadata": {
  "kernelspec": {
   "display_name": "Python 3",
   "language": "python",
   "name": "python3"
  },
  "language_info": {
   "codemirror_mode": {
    "name": "ipython",
    "version": 3
   },
   "file_extension": ".py",
   "mimetype": "text/x-python",
   "name": "python",
   "nbconvert_exporter": "python",
   "pygments_lexer": "ipython3",
   "version": "3.7.3"
  }
 },
 "nbformat": 4,
 "nbformat_minor": 4
}
